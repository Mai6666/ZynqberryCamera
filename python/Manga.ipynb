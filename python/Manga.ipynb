{
 "cells": [
  {
   "cell_type": "code",
   "execution_count": 1,
   "metadata": {},
   "outputs": [],
   "source": [
    "import cv2\n",
    "import numpy as np"
   ]
  },
  {
   "cell_type": "code",
   "execution_count": 2,
   "metadata": {},
   "outputs": [],
   "source": [
    "def manga_filter(src, screen, th1=60, th2=150):\n",
    "    \n",
    "    gray = cv2.cvtColor(src, cv2.COLOR_BGR2GRAY)   # グレースケール変換\n",
    "    screen = cv2.cvtColor(screen, cv2.COLOR_BGR2GRAY)\n",
    "\n",
    "    screen = cv2.resize(screen,(gray.shape[1],gray.shape[0])) # スクリーントーン画像を入力画像と同じサイズにする\n",
    "\n",
    "    edge = 255 - cv2.Canny(gray, 80, 120)  # Cannyエッジ検出器で輪郭検出し、色反転\n",
    "\n",
    "    # 三値化\n",
    "    gray[gray <= th1] = 0\n",
    "    gray[gray >= th2] = 255\n",
    "    gray[ np.where((gray > th1) & (gray < th2)) ] = screen[ np.where((gray > th1)&(gray < th2)) ]\n",
    "\n",
    "    # 三値画像と輪郭画像を合成\n",
    "    return cv2.bitwise_and(gray, edge)"
   ]
  },
  {
   "cell_type": "code",
   "execution_count": null,
   "metadata": {},
   "outputs": [],
   "source": [
    "def main():\n",
    "\n",
    "    # 入力画像とスクリーントーン画像を取得\n",
    "    img = cv2.imread(\"lena.png\") \n",
    "    screen = cv2.imread(\"screen.jpg\")\n",
    "    \n",
    "    # 画像の漫画化\n",
    "    manga = manga_filter(img, screen, 60, 150)\n",
    "    \n",
    "    # 結果を出力\n",
    "    cv2.imwrite(\"output.jpg\", manga)\n",
    "    cv2.imshow(\"result\", manga)\n",
    "    cv2.waitKey(0)\n",
    "    cv2.destroyAllWindows()\n",
    "\n",
    "if __name__ == '__main__':\n",
    "    main()"
   ]
  }
 ],
 "metadata": {
  "kernelspec": {
   "display_name": "Python 3",
   "language": "python",
   "name": "python3"
  },
  "language_info": {
   "codemirror_mode": {
    "name": "ipython",
    "version": 3
   },
   "file_extension": ".py",
   "mimetype": "text/x-python",
   "name": "python",
   "nbconvert_exporter": "python",
   "pygments_lexer": "ipython3",
   "version": "3.7.2"
  }
 },
 "nbformat": 4,
 "nbformat_minor": 2
}
